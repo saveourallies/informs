{
 "cells": [
  {
   "cell_type": "code",
   "execution_count": 95,
   "metadata": {},
   "outputs": [],
   "source": [
    "from dotenv import load_dotenv\n",
    "import os\n",
    "\n",
    "from azure.core.credentials import AzureKeyCredential\n",
    "from azure.maps.render import MapsRenderClient\n",
    "from azure.maps.render import TilesetID\n",
    "from IPython.display import Image, display\n",
    "\n",
    "import httpx\n",
    "\n",
    "load_dotenv()\n",
    "AZURE_MAPS_KEY = os.environ.get('AZURE_MAPS_KEY')\n",
    "# print(AZURE_MAPS_KEY)"
   ]
  },
  {
   "cell_type": "code",
   "execution_count": null,
   "metadata": {},
   "outputs": [],
   "source": [
    "credential = AzureKeyCredential(os.environ.get(\"AZURE_MAPS_KEY\"))\n",
    "maps_render_client = MapsRenderClient(credential=credential)\n",
    "\n",
    "result = maps_render_client.get_map_attribution(\n",
    "    tileset_id=TilesetID.MICROSOFT_BASE,\n",
    "    zoom=6,\n",
    "    bounds=[42.982261, 24.980233, 56.526017, 1.355233],\n",
    ")\n",
    "print(result)"
   ]
  },
  {
   "cell_type": "code",
   "execution_count": null,
   "metadata": {},
   "outputs": [],
   "source": [
    "result = maps_render_client.get_map_tile(\n",
    "    tileset_id=TilesetID.MICROSOFT_BASE,\n",
    "    z=6,\n",
    "    x=9,\n",
    "    y=22,\n",
    "    tile_size=\"512\"\n",
    ")\n",
    "print(result)"
   ]
  },
  {
   "cell_type": "code",
   "execution_count": null,
   "metadata": {},
   "outputs": [],
   "source": [
    "result = maps_render_client.get_map_tileset(tileset_id=TilesetID.MICROSOFT_BASE)\n",
    "\n",
    "print(result)"
   ]
  },
  {
   "cell_type": "code",
   "execution_count": null,
   "metadata": {},
   "outputs": [],
   "source": [
    "result = maps_render_client.get_map_static_image(\n",
    "    zoom=10,\n",
    "    bounding_box_private=[13.228, 52.4559, 13.5794, 52.629]\n",
    ")\n",
    "print(result)"
   ]
  },
  {
   "cell_type": "code",
   "execution_count": null,
   "metadata": {},
   "outputs": [],
   "source": [
    "result = maps_render_client.get_copyright_for_world()\n",
    "print(result)"
   ]
  },
  {
   "cell_type": "code",
   "execution_count": null,
   "metadata": {},
   "outputs": [],
   "source": []
  },
  {
   "cell_type": "code",
   "execution_count": null,
   "metadata": {},
   "outputs": [],
   "source": [
    "width=600\n",
    "height=400\n",
    "zoom=13\n",
    "\n",
    "fieldop_lat=30.42\n",
    "fieldop_lon=-97.92\n",
    "aid1_lat=30.415\n",
    "aid1_lon=-97.922\n",
    "tileset_id='microsoft.base.darkgrey'\n",
    "life_url=\"https://opeongo.net/icons/lifebuoy.png\"\n",
    "\n",
    "pin_instances = [\n",
    "    f\"default|co008000|lcFFFFFF||'OP'{fieldop_lon} {fieldop_lat}\",\n",
    "    f\"default|coFFFF00|lc000000||'AID'{aid1_lon} {aid1_lat}\"\n",
    "]"
   ]
  },
  {
   "cell_type": "code",
   "execution_count": null,
   "metadata": {},
   "outputs": [],
   "source": [
    "url = \"https://atlas.microsoft.com/map/static/png\"\n",
    "params = {\n",
    "  'subscription-key': AZURE_MAPS_KEY,\n",
    "  'api-version': '1.0',\n",
    "  'layer': 'basic',\n",
    "  'style': 'main',\n",
    "  'zoom': zoom,\n",
    "  'center': f'{fieldop_lon},{fieldop_lat}',\n",
    "  'width': width,\n",
    "  'height': height,\n",
    "  'pins': pin_instances,\n",
    "  'path': f'lcFF1493||{fieldop_lon} {fieldop_lat}|{aid1_lon} {aid1_lat}'\n",
    "}\n",
    "response = httpx.get(url, params=params)\n",
    "response_content = response.content\n",
    "if response.content.startswith(b'\\x89PNG'):\n",
    "  print(f\"The response content is a PNG file, size: {response.headers['content-length']}. Type: {response.headers['content-type']}\")\n",
    "  # Display the image\n",
    "  display(Image(data=response.content))\n",
    "else:\n",
    "  print(\"The response content is not a PNG file.\")\n",
    "  print(response_content)\n"
   ]
  },
  {
   "cell_type": "code",
   "execution_count": null,
   "metadata": {},
   "outputs": [],
   "source": [
    "\n",
    "\n",
    "def get_map_image(center_lat, center_lon, marker_lat, marker_lon, zoom=12, width=800, height=600):\n",
    "  url = \"https://atlas.microsoft.com/map/static/png\"\n",
    "  params = {\n",
    "    'subscription-key': AZURE_MAPS_KEY,\n",
    "    'api-version': '1.0',\n",
    "    'layer': 'basic',\n",
    "    'style': 'main',\n",
    "    'zoom': zoom,\n",
    "    'center': f'{center_lon},{center_lat}',\n",
    "    'width': width,\n",
    "    'height': height,\n",
    "    'pins': f\"default||{center_lon} {center_lat}\"\n",
    "    # |default||'aid request'{marker_lon} {marker_lat}\"\n",
    "    # 'pins': f'AidRequestX.loc||{marker_lat},{marker_lon}'\n",
    "  }\n",
    "  response = httpx.get(url, params=params)\n",
    "  return response"
   ]
  },
  {
   "cell_type": "code",
   "execution_count": null,
   "metadata": {},
   "outputs": [],
   "source": [
    "credential = AzureKeyCredential(os.environ.get(\"AZURE_MAPS_KEY\"))\n",
    "maps_client = MapsRenderClient(credential=credential)"
   ]
  },
  {
   "cell_type": "code",
   "execution_count": null,
   "metadata": {},
   "outputs": [],
   "source": [
    "pin_styles = [\n",
    "    \"pin-blue\",  # Default blue pin\n",
    "    \"pin-red\",   # Red pin\n",
    "    \"pin-green\"  # Green pin\n",
    "]\n",
    "center=[-97.95,30.42]\n",
    "pin_instances = [\n",
    "    # f\"default||{center}\",\n",
    "    f\"default||'barf'-97.945 30.415\",\n",
    "    f\"default||'cat'-97.935 30.425\"\n",
    "]\n",
    "width=800\n",
    "height=600\n",
    "zoom=12\n",
    "\n",
    "response = maps_client.get_map_static_image(\n",
    "    center=center,\n",
    "    zoom=zoom,\n",
    "    width=width,\n",
    "    height=height,\n",
    "    # pins=pin_instances\n",
    ")\n",
    "next(result)\n"
   ]
  },
  {
   "cell_type": "code",
   "execution_count": null,
   "metadata": {},
   "outputs": [],
   "source": [
    "# result = maps_render_client.get_map_static_image(\n",
    "#     zoom=10,\n",
    "#     bounding_box_private=[13.228, 52.4559, 13.5794, 52.629]\n",
    "# )\n",
    "width=800\n",
    "height=600\n",
    "zoom=12\n",
    "\n",
    "response = maps_client.get_map_static_image(\n",
    "    center=center,\n",
    "    zoom=zoom,\n",
    "    width=width,\n",
    "    height=height,\n",
    "    # pins=pin_instances\n",
    ")\n",
    "print(\"Get map tile result to png file as 'map_static_image.png'\")\n",
    "# Save result to file as png\n",
    "with open('map_static_image.png', 'wb') as file:\n",
    "    file.write(next(response))\n",
    "    file.close()"
   ]
  },
  {
   "cell_type": "code",
   "execution_count": null,
   "metadata": {},
   "outputs": [],
   "source": [
    "print(len(result))"
   ]
  },
  {
   "cell_type": "code",
   "execution_count": null,
   "metadata": {},
   "outputs": [],
   "source": []
  },
  {
   "cell_type": "code",
   "execution_count": null,
   "metadata": {},
   "outputs": [],
   "source": [
    "\n",
    "png_data = response\n",
    "display(Image(data=png_data))"
   ]
  },
  {
   "cell_type": "code",
   "execution_count": null,
   "metadata": {},
   "outputs": [],
   "source": [
    "\n",
    "print(response.read())\n"
   ]
  },
  {
   "cell_type": "code",
   "execution_count": null,
   "metadata": {},
   "outputs": [],
   "source": [
    "print(str(response))"
   ]
  },
  {
   "cell_type": "code",
   "execution_count": null,
   "metadata": {},
   "outputs": [],
   "source": [
    "# Read the content of the response\n",
    "response_content = response.content\n",
    "\n",
    "# Check if the response content is a PNG file\n",
    "if response_content.startswith(b'\\x89PNG'):\n",
    "  print(\"The response content is a PNG file.\")\n",
    "  # Display the image\n",
    "  display(Image(data=response_content))\n",
    "  content_length = headers['content-length']\n",
    "  print(content_length)\n",
    "else:\n",
    "  print(\"The response content is not a PNG file.\")\n",
    "  # Process the response content as needed\n",
    "  print(response_content)"
   ]
  },
  {
   "cell_type": "code",
   "execution_count": null,
   "metadata": {},
   "outputs": [],
   "source": [
    "\n",
    "for item in response:\n",
    "  print(item)\n",
    "# if response.content.startswith(b'\\x89PNG'):\n",
    "#   print(\"The response content is a PNG file.\")\n",
    "#   # Display the image\n",
    "#   display(Image(data=response.content))\n",
    "#   content_length = headers['content-length']\n",
    "#   print(content_length)\n",
    "# else:\n",
    "#   print(\"The response content is not a PNG file.\")"
   ]
  },
  {
   "cell_type": "code",
   "execution_count": null,
   "metadata": {},
   "outputs": [],
   "source": [
    "\n",
    "center_lat = 30.42\n",
    "center_lon = -97.93\n",
    "marker_lat = 30.4235\n",
    "marker_lon = -97.9326\n",
    "\n",
    "response = get_map_image(center_lat, center_lon, marker_lat, marker_lon)\n",
    "headers = response.headers\n",
    "print(response)\n",
    "\n",
    "print(headers)"
   ]
  },
  {
   "cell_type": "code",
   "execution_count": null,
   "metadata": {},
   "outputs": [],
   "source": [
    "if response.content.startswith(b'\\x89PNG'):\n",
    "  print(\"The response content is a PNG file.\")\n",
    "  # Display the image\n",
    "  display(Image(data=response.content))\n",
    "  content_length = headers['content-length']\n",
    "  print(content_length)\n",
    "else:\n",
    "  print(\"The response content is not a PNG file.\")"
   ]
  },
  {
   "cell_type": "code",
   "execution_count": null,
   "metadata": {},
   "outputs": [],
   "source": [
    "# Save the image to a file\n",
    "with open('map_image.png', 'wb') as f:\n",
    "  f.write(response.content)"
   ]
  },
  {
   "cell_type": "code",
   "execution_count": null,
   "metadata": {},
   "outputs": [],
   "source": [
    "def get_search_fuzzy(query):\n",
    "  url = \"https://atlas.microsoft.com/search/fuzzy/json\"\n",
    "  params = {\n",
    "    'subscription-key': AZURE_MAPS_KEY,\n",
    "    'api-version': '1.0',\n",
    "    'query': query\n",
    "  }\n",
    "  response = httpx.get(url, params=params)\n",
    "  return response.json()\n",
    "\n",
    "query = 'Golden Gate Bridge, San Francisco, CA'\n",
    "\n",
    "response_json = get_search_fuzzy(query)\n",
    "\n",
    "print(response_json)\n",
    "# print(response_json['results'])\n",
    "for item in response_json['results']:\n",
    "  print('Result_Type', item['type'])\n",
    "  if 'poi' in item:\n",
    "      print('Name', item['poi']['name'])\n",
    "  print('Address:', item['address']['freeformAddress'])\n",
    "  print('Lat Long:', item['position'])\n"
   ]
  }
 ],
 "metadata": {
  "kernelspec": {
   "display_name": ".venv",
   "language": "python",
   "name": "python3"
  },
  "language_info": {
   "codemirror_mode": {
    "name": "ipython",
    "version": 3
   },
   "file_extension": ".py",
   "mimetype": "text/x-python",
   "name": "python",
   "nbconvert_exporter": "python",
   "pygments_lexer": "ipython3",
   "version": "3.12.3"
  }
 },
 "nbformat": 4,
 "nbformat_minor": 2
}
