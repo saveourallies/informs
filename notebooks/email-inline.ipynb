{
 "cells": [
  {
   "cell_type": "code",
   "execution_count": 1,
   "metadata": {},
   "outputs": [
    {
     "ename": "ImportError",
     "evalue": "cannot import name 'load_dotenv' from 'dotenv' (/home/devadmin/.pyenv/versions/3.12.8/lib/python3.12/site-packages/dotenv.py)",
     "output_type": "error",
     "traceback": [
      "\u001b[0;31m---------------------------------------------------------------------------\u001b[0m",
      "\u001b[0;31mImportError\u001b[0m                               Traceback (most recent call last)",
      "Cell \u001b[0;32mIn[1], line 2\u001b[0m\n\u001b[1;32m      1\u001b[0m \u001b[38;5;28;01mimport\u001b[39;00m \u001b[38;5;21;01mos\u001b[39;00m\u001b[38;5;241m,\u001b[39m \u001b[38;5;21;01mbase64\u001b[39;00m\n\u001b[0;32m----> 2\u001b[0m \u001b[38;5;28;01mfrom\u001b[39;00m \u001b[38;5;21;01mdotenv\u001b[39;00m \u001b[38;5;28;01mimport\u001b[39;00m load_dotenv\n\u001b[1;32m      3\u001b[0m \u001b[38;5;28;01mfrom\u001b[39;00m \u001b[38;5;21;01mazure\u001b[39;00m\u001b[38;5;21;01m.\u001b[39;00m\u001b[38;5;21;01mcore\u001b[39;00m\u001b[38;5;21;01m.\u001b[39;00m\u001b[38;5;21;01mcredentials\u001b[39;00m \u001b[38;5;28;01mimport\u001b[39;00m AzureKeyCredential\n\u001b[1;32m      4\u001b[0m \u001b[38;5;28;01mfrom\u001b[39;00m \u001b[38;5;21;01mazure\u001b[39;00m\u001b[38;5;21;01m.\u001b[39;00m\u001b[38;5;21;01mcommunication\u001b[39;00m\u001b[38;5;21;01m.\u001b[39;00m\u001b[38;5;21;01memail\u001b[39;00m \u001b[38;5;28;01mimport\u001b[39;00m EmailClient\n",
      "\u001b[0;31mImportError\u001b[0m: cannot import name 'load_dotenv' from 'dotenv' (/home/devadmin/.pyenv/versions/3.12.8/lib/python3.12/site-packages/dotenv.py)"
     ]
    }
   ],
   "source": [
    "import os, base64\n",
    "from dotenv import load_dotenv\n",
    "from azure.core.credentials import AzureKeyCredential\n",
    "from azure.communication.email import EmailClient\n",
    "\n",
    "from IPython.display import Image, display\n",
    "\n",
    "import httpx\n",
    "\n",
    "load_dotenv()\n",
    "AZURE_MAPS_KEY = os.environ.get('AZURE_MAPS_KEY')"
   ]
  },
  {
   "cell_type": "code",
   "execution_count": null,
   "metadata": {},
   "outputs": [],
   "source": [
    "width=600\n",
    "height=400\n",
    "zoom=13\n",
    "fieldop_lat=30.4\n",
    "fieldop_lon=-97.6\n",
    "aid1_lat=30.5\n",
    "aid1_lon=-97.5\n",
    "\n",
    "pin_instances = [\n",
    "        f\"default|co008000|lcFFFFFF||'OP'{fieldop_lon} {fieldop_lat}\",\n",
    "        f\"default|coFFFF00|lc000000||'AID'{aid1_lon} {aid1_lat}\"\n",
    "    ]\n",
    "\n",
    "url = \"https://atlas.microsoft.com/map/static\"\n",
    "params = {\n",
    "    'subscription-key': AZURE_MAPS_KEY,\n",
    "    'api-version': '2024-04-01',\n",
    "    'layer': 'basic',\n",
    "    'style': 'main',\n",
    "    'zoom': zoom,\n",
    "    'center': f'{fieldop_lon},{fieldop_lat}',\n",
    "    'width': width,\n",
    "    'height': height,\n",
    "    'pins': pin_instances,\n",
    "    'path': f'lcFF1493||{fieldop_lon} {fieldop_lat}|{aid1_lon} {aid1_lat}'\n",
    "}\n",
    "response = httpx.get(url, params=params)\n"
   ]
  },
  {
   "cell_type": "code",
   "execution_count": null,
   "metadata": {},
   "outputs": [],
   "source": [
    "\n",
    "image_data = base64.b64encode(response.content).decode('utf-8')\n",
    "\n",
    "inlineAttachments = [\n",
    "    {\n",
    "        \"name\": \"inline-attachment.png\",\n",
    "        \"contentId\": \"my-inline-attachment-1\",\n",
    "        \"contentType\": \"image/png\",\n",
    "        \"contentInBase64\": image_data\n",
    "    }\n",
    "]"
   ]
  },
  {
   "cell_type": "code",
   "execution_count": null,
   "metadata": {},
   "outputs": [],
   "source": [
    "message = {\n",
    "    \"content\": {\n",
    "        \"subject\": \"Welcome to Azure Communication Services Email\",\n",
    "        \"plainText\": \"This email message is sent from Azure Communication Services Email using the Python SDK.\",\n",
    "        \"html\": \"<html><h1>HTML body inline images:</h1><img src=\\\"cid:my-inline-attachment-1\\\" /></html>\"\n",
    "    },\n",
    "    \"recipients\": {\n",
    "        \"to\": [\n",
    "            {\n",
    "                \"address\": \"<kris@saveourallies.org>\",\n",
    "                \"displayName\": \"Kris DevOps\"\n",
    "            }\n",
    "        ]\n",
    "    },\n",
    "    \"senderAddress\": \"<donotreply@49647ab0-49e2-40a4-9b30-94ae450c4ac3.azurecomm.net>\",\n",
    "    \"attachments\": inlineAttachments\n",
    "}"
   ]
  },
  {
   "cell_type": "code",
   "execution_count": null,
   "metadata": {},
   "outputs": [],
   "source": [
    "\n",
    "connect_string = f\"endpoint=https://{settings.MAIL_ENDPOINT}/;accesskey={settings.MAIL_FROM_KEY}\"\n",
    "email_client = EmailClient.from_connection_string(<connection_string>)"
   ]
  }
 ],
 "metadata": {
  "kernelspec": {
   "display_name": ".venv",
   "language": "python",
   "name": "python3"
  },
  "language_info": {
   "codemirror_mode": {
    "name": "ipython",
    "version": 3
   },
   "file_extension": ".py",
   "mimetype": "text/x-python",
   "name": "python",
   "nbconvert_exporter": "python",
   "pygments_lexer": "ipython3",
   "version": "3.12.3"
  }
 },
 "nbformat": 4,
 "nbformat_minor": 2
}
