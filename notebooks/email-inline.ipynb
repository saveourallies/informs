{
 "cells": [
  {
   "cell_type": "code",
   "execution_count": null,
   "metadata": {},
   "outputs": [],
   "source": [
    "import os, base64\n",
    "from dotenv import load_dotenv\n",
    "from azure.core.credentials import AzureKeyCredential\n",
    "from azure.communication.email import EmailClient\n",
    "from IPython.display import Image, display\n",
    "import httpx\n",
    "from platform import python_version\n",
    "print(python_version())\n",
    "\n",
    "load_dotenv()\n",
    "\n",
    "MAIL_FROM_DOMAIN=os.environ.get('MAIL_FROM_DOMAIN')\n",
    "MAIL_FROM_USER=os.environ.get('MAIL_FROM_USER')\n",
    "MAIL_FROM_KEY=os.environ.get('MAIL_FROM_KEY')\n",
    "MAIL_TO_TEST=os.environ.get('MAIL_TO_TEST')\n",
    "print(MAIL_TO_TEST)\n",
    "MAIL_ENDPOINT=os.environ.get('MAIL_ENDPOINT')\n",
    "\n",
    "AZURE_MAPS_KEY = os.environ.get('AZURE_MAPS_KEY')"
   ]
  },
  {
   "cell_type": "code",
   "execution_count": null,
   "metadata": {},
   "outputs": [],
   "source": [
    "width=600\n",
    "height=400\n",
    "zoom=13\n",
    "fieldop_lat=30.4\n",
    "fieldop_lon=-97.6\n",
    "aid1_lat=30.5\n",
    "aid1_lon=-97.5\n",
    "\n",
    "pin_instances = [\n",
    "        f\"default|co008000|lcFFFFFF||'OP'{fieldop_lon} {fieldop_lat}\",\n",
    "        f\"default|coFFFF00|lc000000||'AID'{aid1_lon} {aid1_lat}\"\n",
    "    ]\n",
    "\n",
    "url = \"https://atlas.microsoft.com/map/static\"\n",
    "params = {\n",
    "    'subscription-key': AZURE_MAPS_KEY,\n",
    "    'api-version': '2024-04-01',\n",
    "    'layer': 'basic',\n",
    "    'style': 'main',\n",
    "    'zoom': zoom,\n",
    "    'center': f'{fieldop_lon},{fieldop_lat}',\n",
    "    'width': width,\n",
    "    'height': height,\n",
    "    'pins': pin_instances,\n",
    "    'path': f'lcFF1493||{fieldop_lon} {fieldop_lat}|{aid1_lon} {aid1_lat}'\n",
    "}\n",
    "response = httpx.get(url, params=params)\n"
   ]
  },
  {
   "cell_type": "code",
   "execution_count": null,
   "metadata": {},
   "outputs": [],
   "source": [
    "file_name=\"map.png\"\n",
    "if response.status_code == 200:\n",
    "    with open(file_name, 'wb') as file:\n",
    "        file.write(response.content)\n",
    "    print(f\"Map image saved to {file_name}\")\n",
    "else:\n",
    "    print(f\"Failed to fetch map image. Status code: {response.status_code}, Response: {response.text}\")\n",
    "\n",
    "# image_data = base64.b64encode(response.content).decode('utf-8')\n"
   ]
  },
  {
   "cell_type": "code",
   "execution_count": null,
   "metadata": {},
   "outputs": [],
   "source": [
    "with open(\"diags.png\", \"rb\") as file:\n",
    "    diags_bytes = base64.b64encode(file.read())\n",
    "    diags_string = diags_bytes.decode(\"utf-8\")\n",
    "print(diags_bytes)\n",
    "print(diags_string)\n",
    "print(len(diags_string))"
   ]
  },
  {
   "cell_type": "code",
   "execution_count": null,
   "metadata": {},
   "outputs": [],
   "source": [
    "with open(\"map.png\", \"rb\") as file:\n",
    "    map_bytes = base64.b64encode(file.read())\n",
    "    map_string = map_bytes.decode(\"utf-8\")\n",
    "print(map_bytes)\n",
    "print(map_string)\n",
    "print(len(map_string))"
   ]
  },
  {
   "cell_type": "code",
   "execution_count": null,
   "metadata": {},
   "outputs": [],
   "source": [
    "inlineAttachments = [\n",
    "    {\n",
    "        \"name\": \"map.png\",\n",
    "        \"contentId\": \"map-png\",\n",
    "        \"contentType\": \"image/png\",\n",
    "        \"contentInBase64\": map_string\n",
    "    }\n",
    "]"
   ]
  },
  {
   "cell_type": "code",
   "execution_count": null,
   "metadata": {},
   "outputs": [],
   "source": [
    "sender_address = f\"{MAIL_FROM_USER}@{MAIL_FROM_DOMAIN}\"\n",
    "print(sender_address)\n",
    "print(MAIL_TO_TEST)\n",
    "# MAIL_TO_TEST=\"kris@austinvoicedata.com\"\n",
    "\n",
    "message = {\n",
    "  \"content\": {\n",
    "    \"subject\": \"Welcome to Azure Communication Services Email\",\n",
    "    \"plainText\": \"This email message is sent from Azure Communication Services Email using the Python SDK.\",\n",
    "    \"html\": \"<html><h1>HTML body inline images:</h1><img height='300' width='400' src=\\\"cid:map-png\\\" /></html>\"\n",
    "  },\n",
    "  \"recipients\": {\n",
    "    \"to\": [\n",
    "      {\n",
    "        \"address\": f\"{MAIL_TO_TEST}\",\n",
    "        \"displayName\": \"DevOps Test\"\n",
    "      }\n",
    "    ]\n",
    "  },\n",
    "  \"senderAddress\": f\"{sender_address}\",\n",
    "  \"attachments\": inlineAttachments\n",
    "}"
   ]
  },
  {
   "cell_type": "code",
   "execution_count": null,
   "metadata": {},
   "outputs": [],
   "source": [
    "connect_string = f\"endpoint=https://{MAIL_ENDPOINT}/;accesskey={MAIL_FROM_KEY}\"\n",
    "email_client = EmailClient.from_connection_string(connect_string)\n",
    "\n",
    "try:\n",
    "  poller = email_client.begin_send(message)\n",
    "except Exception as e:\n",
    "  print(e)\n",
    "print(poller.result())\n"
   ]
  }
 ],
 "metadata": {
  "kernelspec": {
   "display_name": ".venv",
   "language": "python",
   "name": "python3"
  },
  "language_info": {
   "codemirror_mode": {
    "name": "ipython",
    "version": 3
   },
   "file_extension": ".py",
   "mimetype": "text/x-python",
   "name": "python",
   "nbconvert_exporter": "python",
   "pygments_lexer": "ipython3",
   "version": "3.12.3"
  }
 },
 "nbformat": 4,
 "nbformat_minor": 2
}
